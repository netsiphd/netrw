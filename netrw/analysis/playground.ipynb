{
 "cells": [
  {
   "cell_type": "code",
   "execution_count": 5,
   "id": "ab4e64eb-1e76-48f7-b3ac-0f94447e66d5",
   "metadata": {},
   "outputs": [],
   "source": [
    "import netrd\n",
    "import networkx as nx"
   ]
  },
  {
   "cell_type": "code",
   "execution_count": 4,
   "id": "ed16a0f3-5a43-40f5-8164-a558befef926",
   "metadata": {},
   "outputs": [],
   "source": [
    "from netrd.distance import Hamming"
   ]
  },
  {
   "cell_type": "code",
   "execution_count": 7,
   "id": "c984fa12-1e95-4e62-9ca1-39ac8c9feb69",
   "metadata": {},
   "outputs": [
    {
     "ename": "AttributeError",
     "evalue": "'Graph' object has no attribute 'results'",
     "output_type": "error",
     "traceback": [
      "\u001b[1;31m---------------------------------------------------------------------------\u001b[0m",
      "\u001b[1;31mAttributeError\u001b[0m                            Traceback (most recent call last)",
      "Input \u001b[1;32mIn [7]\u001b[0m, in \u001b[0;36m<cell line: 3>\u001b[1;34m()\u001b[0m\n\u001b[0;32m      1\u001b[0m G1 \u001b[38;5;241m=\u001b[39m nx\u001b[38;5;241m.\u001b[39mgnp_random_graph(n\u001b[38;5;241m=\u001b[39m\u001b[38;5;241m10\u001b[39m, p\u001b[38;5;241m=\u001b[39m\u001b[38;5;241m0.2\u001b[39m)\n\u001b[0;32m      2\u001b[0m G2 \u001b[38;5;241m=\u001b[39m nx\u001b[38;5;241m.\u001b[39mGraph(G1)\n\u001b[1;32m----> 3\u001b[0m \u001b[43mHamming\u001b[49m\u001b[38;5;241;43m.\u001b[39;49m\u001b[43mdist\u001b[49m\u001b[43m(\u001b[49m\u001b[43mG1\u001b[49m\u001b[43m,\u001b[49m\u001b[43m \u001b[49m\u001b[43mG2\u001b[49m\u001b[43m,\u001b[49m\u001b[43m \u001b[49m\u001b[43mG2\u001b[49m\u001b[43m)\u001b[49m\n",
      "File \u001b[1;32m~\\anaconda3\\envs\\netrwenv\\lib\\site-packages\\netrd\\utilities\\graph.py:136\u001b[0m, in \u001b[0;36munweighted.<locals>.wrapper\u001b[1;34m(*args, **kwargs)\u001b[0m\n\u001b[0;32m    130\u001b[0m \u001b[38;5;129m@wraps\u001b[39m(func)\n\u001b[0;32m    131\u001b[0m \u001b[38;5;28;01mdef\u001b[39;00m \u001b[38;5;21mwrapper\u001b[39m(\u001b[38;5;241m*\u001b[39margs, \u001b[38;5;241m*\u001b[39m\u001b[38;5;241m*\u001b[39mkwargs):\n\u001b[0;32m    132\u001b[0m     args \u001b[38;5;241m=\u001b[39m [\n\u001b[0;32m    133\u001b[0m         ensure_unweighted(arg) \u001b[38;5;28;01mif\u001b[39;00m \u001b[38;5;28missubclass\u001b[39m(arg\u001b[38;5;241m.\u001b[39m\u001b[38;5;18m__class__\u001b[39m, nx\u001b[38;5;241m.\u001b[39mGraph) \u001b[38;5;28;01melse\u001b[39;00m arg\n\u001b[0;32m    134\u001b[0m         \u001b[38;5;28;01mfor\u001b[39;00m arg \u001b[38;5;129;01min\u001b[39;00m args\n\u001b[0;32m    135\u001b[0m     ]\n\u001b[1;32m--> 136\u001b[0m     \u001b[38;5;28;01mreturn\u001b[39;00m func(\u001b[38;5;241m*\u001b[39margs, \u001b[38;5;241m*\u001b[39m\u001b[38;5;241m*\u001b[39mkwargs)\n",
      "File \u001b[1;32m~\\anaconda3\\envs\\netrwenv\\lib\\site-packages\\netrd\\distance\\hamming.py:88\u001b[0m, in \u001b[0;36mHamming.dist\u001b[1;34m(self, G1, G2)\u001b[0m\n\u001b[0;32m     83\u001b[0m     mask \u001b[38;5;241m=\u001b[39m (np\u001b[38;5;241m.\u001b[39mappend(mask[\u001b[38;5;241m0\u001b[39m], new_mask[\u001b[38;5;241m0\u001b[39m]), np\u001b[38;5;241m.\u001b[39mappend(mask[\u001b[38;5;241m1\u001b[39m], new_mask[\u001b[38;5;241m1\u001b[39m]))\n\u001b[0;32m     85\u001b[0m dist \u001b[38;5;241m=\u001b[39m scipy\u001b[38;5;241m.\u001b[39mspatial\u001b[38;5;241m.\u001b[39mdistance\u001b[38;5;241m.\u001b[39mhamming(\n\u001b[0;32m     86\u001b[0m     adj1[mask]\u001b[38;5;241m.\u001b[39mflatten(), adj2[mask]\u001b[38;5;241m.\u001b[39mflatten()\n\u001b[0;32m     87\u001b[0m )\n\u001b[1;32m---> 88\u001b[0m \u001b[38;5;28;43mself\u001b[39;49m\u001b[38;5;241;43m.\u001b[39;49m\u001b[43mresults\u001b[49m[\u001b[38;5;124m\"\u001b[39m\u001b[38;5;124mdist\u001b[39m\u001b[38;5;124m\"\u001b[39m] \u001b[38;5;241m=\u001b[39m dist\n\u001b[0;32m     89\u001b[0m \u001b[38;5;28mself\u001b[39m\u001b[38;5;241m.\u001b[39mresults[\u001b[38;5;124m\"\u001b[39m\u001b[38;5;124madjacency_matrices\u001b[39m\u001b[38;5;124m\"\u001b[39m] \u001b[38;5;241m=\u001b[39m adj1, adj2\n\u001b[0;32m     90\u001b[0m \u001b[38;5;28;01mreturn\u001b[39;00m dist\n",
      "\u001b[1;31mAttributeError\u001b[0m: 'Graph' object has no attribute 'results'"
     ]
    }
   ],
   "source": [
    "G1 = nx.gnp_random_graph(n=10, p=0.2)\n",
    "G2 = nx.Graph(G1)\n",
    "Hamming.dist(G1, G2, G2)"
   ]
  },
  {
   "cell_type": "code",
   "execution_count": null,
   "id": "fe15a91b-841d-4e25-b34c-664e8908ed2d",
   "metadata": {},
   "outputs": [],
   "source": []
  }
 ],
 "metadata": {
  "kernelspec": {
   "display_name": "Python 3 (ipykernel)",
   "language": "python",
   "name": "python3"
  },
  "language_info": {
   "codemirror_mode": {
    "name": "ipython",
    "version": 3
   },
   "file_extension": ".py",
   "mimetype": "text/x-python",
   "name": "python",
   "nbconvert_exporter": "python",
   "pygments_lexer": "ipython3",
   "version": "3.10.5"
  }
 },
 "nbformat": 4,
 "nbformat_minor": 5
}
