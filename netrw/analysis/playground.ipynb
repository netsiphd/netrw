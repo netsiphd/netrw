{
 "cells": [
  {
   "cell_type": "code",
   "execution_count": 1,
   "id": "ab4e64eb-1e76-48f7-b3ac-0f94447e66d5",
   "metadata": {},
   "outputs": [],
   "source": [
    "import netrd\n",
    "import networkx as nx\n",
    "from netrd.distance import Hamming"
   ]
  },
  {
   "cell_type": "code",
   "execution_count": 5,
   "id": "c984fa12-1e95-4e62-9ca1-39ac8c9feb69",
   "metadata": {},
   "outputs": [
    {
     "data": {
      "text/plain": [
       "0.0"
      ]
     },
     "execution_count": 5,
     "metadata": {},
     "output_type": "execute_result"
    }
   ],
   "source": [
    "G1 = nx.gnp_random_graph(n=10, p=0.2)\n",
    "G2 = nx.Graph(G1)\n",
    "\n",
    "distance = Hamming()\n",
    "\n",
    "distance(G1, G2)"
   ]
  },
  {
   "cell_type": "code",
   "execution_count": 6,
   "id": "fe15a91b-841d-4e25-b34c-664e8908ed2d",
   "metadata": {},
   "outputs": [],
   "source": [
    "distance_class = netrd.distance.Hamming"
   ]
  },
  {
   "cell_type": "code",
   "execution_count": 7,
   "id": "94337e3b-5de7-4b07-a319-1f123d0f651a",
   "metadata": {},
   "outputs": [],
   "source": [
    "distance = distance_class()"
   ]
  },
  {
   "cell_type": "code",
   "execution_count": 8,
   "id": "888c9111-e239-41ba-be24-20cf3b6e4d55",
   "metadata": {},
   "outputs": [
    {
     "data": {
      "text/plain": [
       "0.0"
      ]
     },
     "execution_count": 8,
     "metadata": {},
     "output_type": "execute_result"
    }
   ],
   "source": [
    "distance(G1, G2)"
   ]
  },
  {
   "cell_type": "code",
   "execution_count": null,
   "id": "f9f58d9c-7ec4-4d34-82ba-0fe35ac9509b",
   "metadata": {},
   "outputs": [],
   "source": []
  }
 ],
 "metadata": {
  "kernelspec": {
   "display_name": "Python 3 (ipykernel)",
   "language": "python",
   "name": "python3"
  },
  "language_info": {
   "codemirror_mode": {
    "name": "ipython",
    "version": 3
   },
   "file_extension": ".py",
   "mimetype": "text/x-python",
   "name": "python",
   "nbconvert_exporter": "python",
   "pygments_lexer": "ipython3",
   "version": "3.10.5"
  }
 },
 "nbformat": 4,
 "nbformat_minor": 5
}
