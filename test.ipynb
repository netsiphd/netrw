{
 "cells": [
  {
   "cell_type": "code",
   "execution_count": 13,
   "metadata": {},
   "outputs": [],
   "source": [
    "import netrw\n",
    "import numpy as np\n",
    "import networkx as nx\n",
    "import matplotlib.pyplot as plt\n",
    "from netrw.rewire import KarrerRewirer, AlgebraicConnectivity, NetworkXEdgeSwap\n",
    "from netrw.analysis import properties_overtime\n"
   ]
  },
  {
   "cell_type": "code",
   "execution_count": 11,
   "metadata": {},
   "outputs": [],
   "source": [
    "G = nx.erdos_renyi_graph(100,.15)"
   ]
  },
  {
   "cell_type": "code",
   "execution_count": 12,
   "metadata": {},
   "outputs": [],
   "source": [
    "G0 = NetworkXEdgeSwap().rewire(G)"
   ]
  },
  {
   "cell_type": "code",
   "execution_count": 20,
   "metadata": {},
   "outputs": [
    {
     "ename": "TypeError",
     "evalue": "rewire() got an unexpected keyword argument 'nswap'",
     "output_type": "error",
     "traceback": [
      "\u001b[0;31m---------------------------------------------------------------------------\u001b[0m",
      "\u001b[0;31mTypeError\u001b[0m                                 Traceback (most recent call last)",
      "\u001b[1;32m/Users/clara/netrw/test.ipynb Cell 4'\u001b[0m in \u001b[0;36m<cell line: 1>\u001b[0;34m()\u001b[0m\n\u001b[0;32m----> <a href='vscode-notebook-cell:/Users/clara/netrw/test.ipynb#ch0000003?line=0'>1</a>\u001b[0m property_dict, fig \u001b[39m=\u001b[39m properties_overtime\u001b[39m.\u001b[39;49mproperties_overtime(init_graph\u001b[39m=\u001b[39;49mG, rewire_method\u001b[39m=\u001b[39;49m NetworkXEdgeSwap(), property1\u001b[39m=\u001b[39;49m nx\u001b[39m.\u001b[39;49maverage_clustering, tmax\u001b[39m=\u001b[39;49m\u001b[39m100\u001b[39;49m, numit\u001b[39m=\u001b[39;49m\u001b[39m10\u001b[39;49m)\n",
      "File \u001b[0;32m~/netrw/netrw/analysis/properties_overtime.py:29\u001b[0m, in \u001b[0;36mproperties_overtime\u001b[0;34m(init_graph, rewire_method, property1, tmax, numit)\u001b[0m\n\u001b[1;32m     <a href='file:///Users/clara/netrw/netrw/analysis/properties_overtime.py?line=26'>27</a>\u001b[0m property_list \u001b[39m=\u001b[39m [property1(G0)] \u001b[39m# calculate property of initial network\u001b[39;00m\n\u001b[1;32m     <a href='file:///Users/clara/netrw/netrw/analysis/properties_overtime.py?line=27'>28</a>\u001b[0m \u001b[39mfor\u001b[39;00m j \u001b[39min\u001b[39;00m \u001b[39mrange\u001b[39m(tmax):\n\u001b[0;32m---> <a href='file:///Users/clara/netrw/netrw/analysis/properties_overtime.py?line=28'>29</a>\u001b[0m     rewire_method(G0, nswap\u001b[39m=\u001b[39;49m\u001b[39m1\u001b[39;49m) \u001b[39m#rewire \u001b[39;00m\n\u001b[1;32m     <a href='file:///Users/clara/netrw/netrw/analysis/properties_overtime.py?line=29'>30</a>\u001b[0m     property_list\u001b[39m.\u001b[39mappend(property1(G0)) \u001b[39m#calculate property of the rewired network\u001b[39;00m\n\u001b[1;32m     <a href='file:///Users/clara/netrw/netrw/analysis/properties_overtime.py?line=30'>31</a>\u001b[0m property_dict[i] \u001b[39m=\u001b[39m property_list\n",
      "File \u001b[0;32m~/netrw/netrw/rewire/base.py:13\u001b[0m, in \u001b[0;36mBaseRewirer.__call__\u001b[0;34m(self, *args, **kwargs)\u001b[0m\n\u001b[1;32m     <a href='file:///Users/clara/netrw/netrw/rewire/base.py?line=11'>12</a>\u001b[0m \u001b[39mdef\u001b[39;00m \u001b[39m__call__\u001b[39m(\u001b[39mself\u001b[39m, \u001b[39m*\u001b[39margs, \u001b[39m*\u001b[39m\u001b[39m*\u001b[39mkwargs):\n\u001b[0;32m---> <a href='file:///Users/clara/netrw/netrw/rewire/base.py?line=12'>13</a>\u001b[0m     \u001b[39mreturn\u001b[39;00m \u001b[39mself\u001b[39;49m\u001b[39m.\u001b[39;49mrewire(\u001b[39m*\u001b[39;49margs, \u001b[39m*\u001b[39;49m\u001b[39m*\u001b[39;49mkwargs)\n",
      "\u001b[0;31mTypeError\u001b[0m: rewire() got an unexpected keyword argument 'nswap'"
     ]
    }
   ],
   "source": [
    "property_dict, fig = properties_overtime.properties_overtime(init_graph=G, rewire_method= NetworkXEdgeSwap(), property1= nx.average_clustering, tmax=100, numit=10)"
   ]
  },
  {
   "cell_type": "code",
   "execution_count": 15,
   "metadata": {},
   "outputs": [
    {
     "data": {
      "text/plain": [
       "module"
      ]
     },
     "execution_count": 15,
     "metadata": {},
     "output_type": "execute_result"
    }
   ],
   "source": [
    "type(properties_overtime)"
   ]
  }
 ],
 "metadata": {
  "interpreter": {
   "hash": "abdefde89911577035689be2b705da6a7f51bdbfe4520de839bf860af06394b4"
  },
  "kernelspec": {
   "display_name": "Python 3.9.7 ('base')",
   "language": "python",
   "name": "python3"
  },
  "language_info": {
   "codemirror_mode": {
    "name": "ipython",
    "version": 3
   },
   "file_extension": ".py",
   "mimetype": "text/x-python",
   "name": "python",
   "nbconvert_exporter": "python",
   "pygments_lexer": "ipython3",
   "version": "3.9.7"
  },
  "orig_nbformat": 4
 },
 "nbformat": 4,
 "nbformat_minor": 2
}
